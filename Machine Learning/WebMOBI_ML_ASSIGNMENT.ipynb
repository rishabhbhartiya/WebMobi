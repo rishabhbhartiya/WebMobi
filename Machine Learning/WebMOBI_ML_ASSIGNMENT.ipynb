{
  "nbformat": 4,
  "nbformat_minor": 0,
  "metadata": {
    "colab": {
      "provenance": []
    },
    "kernelspec": {
      "name": "python3",
      "display_name": "Python 3"
    },
    "language_info": {
      "name": "python"
    }
  },
  "cells": [
    {
      "cell_type": "code",
      "source": [
        "import spacy\n",
        "from textblob import TextBlob"
      ],
      "metadata": {
        "id": "WRvrmxKWVQ_c"
      },
      "execution_count": 7,
      "outputs": []
    },
    {
      "cell_type": "code",
      "source": [
        "# Load spaCy model\n",
        "nlp = spacy.load('en_core_web_sm')"
      ],
      "metadata": {
        "id": "w60WMC5pV2K1"
      },
      "execution_count": 8,
      "outputs": []
    },
    {
      "cell_type": "code",
      "source": [
        "# Sample transcribed interview responses\n",
        "responses = [\n",
        "    \"I believe the most significant challenge our industry faces is adapting to rapid technological changes. Companies that can innovate quickly and efficiently are the ones that will thrive.\",\n",
        "    \"Our company values teamwork and collaboration above all else. We believe that when employees work together, they can achieve great things.\",\n",
        "    \"I think our product is fantastic, but we need to improve our marketing strategy to reach a broader audience. It's essential to understand what our customers want and need.\",\n",
        "    \"One of the most rewarding aspects of my job is seeing the positive impact our services have on the community. It makes all the hard work worthwhile.\",\n",
        "    \"The current economic climate is challenging, but I am optimistic that with strategic planning, we can overcome these difficulties and continue to grow.\"\n",
        "]"
      ],
      "metadata": {
        "id": "pcaVgi0gV2N3"
      },
      "execution_count": 9,
      "outputs": []
    },
    {
      "cell_type": "code",
      "source": [
        "def analyze_sentiment(text):\n",
        "    blob = TextBlob(text)\n",
        "    sentiment = blob.sentiment.polarity\n",
        "    if sentiment > 0:\n",
        "        return \"Positive\"\n",
        "    elif sentiment < 0:\n",
        "        return \"Negative\"\n",
        "    else:\n",
        "        return \"Neutral\""
      ],
      "metadata": {
        "id": "QR1vrz0LV2Qu"
      },
      "execution_count": 10,
      "outputs": []
    },
    {
      "cell_type": "code",
      "source": [
        "def extract_key_phrases(text):\n",
        "    doc = nlp(text)\n",
        "    key_phrases = [chunk.text for chunk in doc.noun_chunks]\n",
        "    return key_phrases"
      ],
      "metadata": {
        "id": "fbP6y-LYWBIE"
      },
      "execution_count": 11,
      "outputs": []
    },
    {
      "cell_type": "code",
      "source": [
        "def overall_quality(sentiment, key_phrases, expected_key_phrases):\n",
        "    relevance = len(set(key_phrases) & set(expected_key_phrases)) / len(expected_key_phrases)\n",
        "    if sentiment == \"Positive\" and relevance > 0.5:\n",
        "        return \"High\"\n",
        "    elif sentiment == \"Neutral\" and relevance > 0.3:\n",
        "        return \"Medium\"\n",
        "    else:\n",
        "        return \"Low\""
      ],
      "metadata": {
        "id": "TbpMTYpQWEMG"
      },
      "execution_count": 12,
      "outputs": []
    },
    {
      "cell_type": "code",
      "source": [
        "# Define expected key phrases for quality assessment (this is just an example)\n",
        "expected_key_phrases_list = [\n",
        "    [\"technological changes\", \"innovation\", \"industry\"],\n",
        "    [\"teamwork\", \"collaboration\", \"employees\"],\n",
        "    [\"product\", \"marketing strategy\", \"customers\"],\n",
        "    [\"rewarding aspects\", \"positive impact\", \"community\"],\n",
        "    [\"economic climate\", \"strategic planning\", \"growth\"]\n",
        "]"
      ],
      "metadata": {
        "id": "fD4MZvPFWHJO"
      },
      "execution_count": 13,
      "outputs": []
    },
    {
      "cell_type": "code",
      "source": [
        "# Analyze each response\n",
        "for i, response in enumerate(responses):\n",
        "    sentiment = analyze_sentiment(response)\n",
        "    key_phrases = extract_key_phrases(response)\n",
        "    expected_key_phrases = expected_key_phrases_list[i]\n",
        "    quality = overall_quality(sentiment, key_phrases, expected_key_phrases)\n",
        "\n",
        "    print(f\"Response {i+1}:\")\n",
        "    print(f\"Sentiment: {sentiment}\")\n",
        "    print(f\"Key Phrases: {key_phrases}\")\n",
        "    print(f\"Overall Quality: {quality}\")\n",
        "    print(\"-\" * 40)"
      ],
      "metadata": {
        "colab": {
          "base_uri": "https://localhost:8080/"
        },
        "id": "e5zphOOlWK19",
        "outputId": "25316122-8c5a-4178-9244-a6e8b91a5d6a"
      },
      "execution_count": 14,
      "outputs": [
        {
          "output_type": "stream",
          "name": "stdout",
          "text": [
            "Response 1:\n",
            "Sentiment: Positive\n",
            "Key Phrases: ['I', 'the most significant challenge', 'our industry', 'rapid technological changes', 'Companies', 'that', 'the ones', 'that']\n",
            "Overall Quality: Low\n",
            "----------------------------------------\n",
            "Response 2:\n",
            "Sentiment: Positive\n",
            "Key Phrases: ['Our company', 'teamwork', 'collaboration', 'We', 'employees', 'they', 'great things']\n",
            "Overall Quality: High\n",
            "----------------------------------------\n",
            "Response 3:\n",
            "Sentiment: Positive\n",
            "Key Phrases: ['I', 'our product', 'we', 'our marketing strategy', 'a broader audience', 'It', 'what', 'our customers']\n",
            "Overall Quality: Low\n",
            "----------------------------------------\n",
            "Response 4:\n",
            "Sentiment: Positive\n",
            "Key Phrases: ['the most rewarding aspects', 'my job', 'the positive impact', 'our services', 'the community', 'It', 'all the hard work']\n",
            "Overall Quality: Low\n",
            "----------------------------------------\n",
            "Response 5:\n",
            "Sentiment: Positive\n",
            "Key Phrases: ['The current economic climate', 'I', 'strategic planning', 'we', 'these difficulties']\n",
            "Overall Quality: Low\n",
            "----------------------------------------\n"
          ]
        }
      ]
    },
    {
      "cell_type": "code",
      "source": [],
      "metadata": {
        "id": "Q8iJs2V2WOQ1"
      },
      "execution_count": null,
      "outputs": []
    }
  ]
}